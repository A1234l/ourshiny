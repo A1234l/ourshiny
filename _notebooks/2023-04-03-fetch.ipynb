{
 "cells": [
  {
   "cell_type": "markdown",
   "metadata": {},
   "source": [
    "# \"Fetching and filtering data\"\n",
    "> \"Lesson\"\n",
    "\n",
    "- toc: true\n",
    "- branch: master\n",
    "- badges: true\n",
    "- comments: true\n",
    "- author: Trent Cardall\n",
    "- categories: [fastpages, jupyter]"
   ]
  },
  {
   "cell_type": "markdown",
   "metadata": {},
   "source": [
    "## Basics of Fetching\n",
    "\n",
    "- In the most basic terms, fetching is getting data from another source. This can be a third party API or your own database\n",
    "- Most often the data comes in JSON, and stored in lists and dictionaries\n",
    "- Usually we want to filter, or \"clean up\" the data to present it in a more readable and user friendly format.\n",
    "\n",
    "![](images/fetch.jpg)"
   ]
  },
  {
   "cell_type": "markdown",
   "metadata": {},
   "source": [
    "## About Fetching\n",
    "### Method\n",
    "The fetching methods are in line with the CRUD (Create, Read, Update, Delete), and list as follows:\n",
    "- \"GET\": Probably the most common method you would use, which is in line with \"read\". It essentially \"gets\" the information from the API and brings it to the frontend where you are able to display it and read it.\n",
    "- \"POST\": Lines up with \"create\" and adds a resource to the API. You will probably mostly be using this with your own API or if a website adds your input to an API.\n",
    "- \"PUT\" and \"PATCH\": Essentially the \"update\" for API. Use \"PUT\" if you want to change the whole resource, or \"PATCH\" if you want to change just one part of a resource.\n",
    "- \"DELETE\": Exactly how it sounds, deletes a resource from the API\n",
    "\n",
    "\n",
    "Popcorn Hacks:\n",
    "- What method should I use if I want to display some of the data stored in the backend?\n",
    "- What method would I use if something in the data is misspelled and I want to fix it real quick?\n",
    "- What method should I use if I want to add a new entry to the data?"
   ]
  },
  {
   "cell_type": "markdown",
   "metadata": {},
   "source": [
    "## Filtering Data\n",
    "- If we want to display API data, we are going to have to filter what we want to display for multiple reasons\n",
    "    - These include making sure that the user only sees information they need to see, and not anything else\n",
    "    - Also we need to present the information in a readable format instead of just seeing the raw data"
   ]
  },
  {
   "cell_type": "markdown",
   "metadata": {},
   "source": [
    "### Example with Weather API\n",
    "\n",
    "- What method is being used in these cells?"
   ]
  },
  {
   "cell_type": "code",
   "execution_count": 11,
   "metadata": {},
   "outputs": [
    {
     "name": "stdout",
     "output_type": "stream",
     "text": [
      "{'location': {'city': 'San Diego', 'woeid': 2487889, 'country': 'United States', 'lat': 32.831699, 'long': -117.122002, 'timezone_id': 'America/Los_Angeles'}, 'current_observation': {'pubDate': 1682463385, 'wind': {'chill': 64, 'direction': 'WSW', 'speed': 9}, 'atmosphere': {'humidity': 65, 'visibility': 10, 'pressure': 1012.5}, 'astronomy': {'sunrise': '6:08 AM', 'sunset': '7:26 PM'}, 'condition': {'temperature': 65, 'text': 'Mostly Cloudy', 'code': 28}}, 'forecasts': [{'day': 'Tue', 'date': 1682438400, 'high': 67, 'low': 55, 'text': 'Mostly Clear', 'code': 33}, {'day': 'Wed', 'date': 1682524800, 'high': 73, 'low': 56, 'text': 'Partly Cloudy', 'code': 30}, {'day': 'Thu', 'date': 1682611200, 'high': 76, 'low': 57, 'text': 'Mostly Sunny', 'code': 34}, {'day': 'Fri', 'date': 1682697600, 'high': 76, 'low': 58, 'text': 'Mostly Sunny', 'code': 34}, {'day': 'Sat', 'date': 1682784000, 'high': 77, 'low': 59, 'text': 'Partly Cloudy', 'code': 30}, {'day': 'Sun', 'date': 1682870400, 'high': 75, 'low': 59, 'text': 'Partly Cloudy', 'code': 30}, {'day': 'Mon', 'date': 1682956800, 'high': 64, 'low': 54, 'text': 'Cloudy', 'code': 26}, {'day': 'Tue', 'date': 1683043200, 'high': 62, 'low': 52, 'text': 'Mostly Cloudy', 'code': 28}, {'day': 'Wed', 'date': 1683129600, 'high': 60, 'low': 53, 'text': 'Partly Cloudy', 'code': 30}, {'day': 'Thu', 'date': 1683216000, 'high': 62, 'low': 51, 'text': 'Partly Cloudy', 'code': 30}, {'day': 'Fri', 'date': 1683302400, 'high': 63, 'low': 53, 'text': 'Mostly Cloudy', 'code': 28}]}\n"
     ]
    }
   ],
   "source": [
    "import requests\n",
    "\n",
    "url = \"https://yahoo-weather5.p.rapidapi.com/weather\"\n",
    "\n",
    "querystring = {\"location\":\"San Diego\",\"format\":\"json\",\"u\":\"f\"}\n",
    "\n",
    "headers = {\n",
    "\t\"X-RapidAPI-Key\": \"4abcb54450msh7468dfd72294e89p18fbaajsn6d4200063b39\",\n",
    "\t\"X-RapidAPI-Host\": \"yahoo-weather5.p.rapidapi.com\"\n",
    "}\n",
    "\n",
    "response = requests.request(\"GET\", url, headers=headers, params=querystring)\n",
    "\n",
    "print(response.json())"
   ]
  },
  {
   "cell_type": "markdown",
   "metadata": {},
   "source": [
    "The fetch worked and we can see all the data, but this is presented in a way that is not very readable. It also has a lot of information we didn't see. Let's say I just want to see the projected weather forecasts."
   ]
  },
  {
   "cell_type": "code",
   "execution_count": 10,
   "metadata": {},
   "outputs": [
    {
     "name": "stdout",
     "output_type": "stream",
     "text": [
      "San Diego Weather Forecast:\n",
      "\n",
      "\tday Tue\n",
      "\tdate 1682438400\n",
      "\thigh 67\n",
      "\tlow 55\n",
      "\ttext Mostly Clear\n",
      "\tcode 33\n",
      "\n",
      "\n",
      "\tday Wed\n",
      "\tdate 1682524800\n",
      "\thigh 73\n",
      "\tlow 56\n",
      "\ttext Partly Cloudy\n",
      "\tcode 30\n",
      "\n",
      "\n",
      "\tday Thu\n",
      "\tdate 1682611200\n",
      "\thigh 76\n",
      "\tlow 57\n",
      "\ttext Mostly Sunny\n",
      "\tcode 34\n",
      "\n",
      "\n",
      "\tday Fri\n",
      "\tdate 1682697600\n",
      "\thigh 76\n",
      "\tlow 58\n",
      "\ttext Mostly Sunny\n",
      "\tcode 34\n",
      "\n",
      "\n",
      "\tday Sat\n",
      "\tdate 1682784000\n",
      "\thigh 77\n",
      "\tlow 59\n",
      "\ttext Partly Cloudy\n",
      "\tcode 30\n",
      "\n",
      "\n",
      "\tday Sun\n",
      "\tdate 1682870400\n",
      "\thigh 75\n",
      "\tlow 59\n",
      "\ttext Partly Cloudy\n",
      "\tcode 30\n",
      "\n",
      "\n",
      "\tday Mon\n",
      "\tdate 1682956800\n",
      "\thigh 64\n",
      "\tlow 54\n",
      "\ttext Cloudy\n",
      "\tcode 26\n",
      "\n",
      "\n",
      "\tday Tue\n",
      "\tdate 1683043200\n",
      "\thigh 62\n",
      "\tlow 52\n",
      "\ttext Mostly Cloudy\n",
      "\tcode 28\n",
      "\n",
      "\n",
      "\tday Wed\n",
      "\tdate 1683129600\n",
      "\thigh 60\n",
      "\tlow 53\n",
      "\ttext Partly Cloudy\n",
      "\tcode 30\n",
      "\n",
      "\n",
      "\tday Thu\n",
      "\tdate 1683216000\n",
      "\thigh 62\n",
      "\tlow 51\n",
      "\ttext Partly Cloudy\n",
      "\tcode 30\n",
      "\n",
      "\n",
      "\tday Fri\n",
      "\tdate 1683302400\n",
      "\thigh 63\n",
      "\tlow 53\n",
      "\ttext Mostly Cloudy\n",
      "\tcode 28\n",
      "\n",
      "\n"
     ]
    }
   ],
   "source": [
    "import requests\n",
    "\n",
    "url = \"https://yahoo-weather5.p.rapidapi.com/weather\"\n",
    "\n",
    "querystring = {\"location\":\"San Diego\",\"format\":\"json\",\"u\":\"f\"}\n",
    "\n",
    "headers = {\n",
    "\t\"X-RapidAPI-Key\": \"4abcb54450msh7468dfd72294e89p18fbaajsn6d4200063b39\",\n",
    "\t\"X-RapidAPI-Host\": \"yahoo-weather5.p.rapidapi.com\"\n",
    "}\n",
    "\n",
    "response = requests.request(\"GET\", url, headers=headers, params=querystring)\n",
    "\n",
    "print(\"San Diego Weather Forecast:\" + \"\\n\")\n",
    "forecast = response.json().get(\"forecasts\")\n",
    "i = 0\n",
    "while i < len(forecast):\n",
    "\tfor key, value in forecast[i].items():\n",
    "\t\tprint(\"\\t\" + key, value)\n",
    "\ti += 1\n",
    "\tprint(\"\\n\")"
   ]
  },
  {
   "cell_type": "markdown",
   "metadata": {},
   "source": [
    "As we can see, we now can see the data in a much more organized and readable format, and we only see the forecasts, which is what we wanted to see"
   ]
  },
  {
   "cell_type": "markdown",
   "metadata": {},
   "source": [
    "## In Our Project"
   ]
  },
  {
   "cell_type": "code",
   "execution_count": null,
   "metadata": {
    "vscode": {
     "languageId": "javascript"
    }
   },
   "outputs": [],
   "source": [
    " const response = fetch(url, {\n",
    "    method: \"GET\",\n",
    "    headers: { \"Content-Type\": \"application/json\" },\n",
    "    mode: \"cors\",\n",
    "    cache: 'default', // *default, no-cache, reload, force-cache, only-if-cached\n",
    "    credentials: 'omit' // include, *same-origin, omit\n",
    "  }).then(response=> \n",
    "    response.json().then(\n",
    "      data => {\n",
    "          console.log(data);\n",
    "          data.forEach((item) => {\n",
    "  console.log('ID: ' + item.id);\n",
    "  console.log('Happy: ' + item.happy);\n",
    "  console.log('Sad: ' + item.sad);\n",
    "  console.log('Rage: ' + item.rage);\n",
    "  console.log('Indian: ' + item.indian);\n",
    "  console.log('Song: ' + item.song);"
   ]
  },
  {
   "cell_type": "markdown",
   "metadata": {},
   "source": [
    "- How are we filtering data in our project?\n",
    "- How would you expect the console to display this data? (Give your best guess/estimate)"
   ]
  }
 ],
 "metadata": {
  "kernelspec": {
   "display_name": "Python 3.9.12 ('base')",
   "language": "python",
   "name": "python3"
  },
  "language_info": {
   "codemirror_mode": {
    "name": "ipython",
    "version": 3
   },
   "file_extension": ".py",
   "mimetype": "text/x-python",
   "name": "python",
   "nbconvert_exporter": "python",
   "pygments_lexer": "ipython3",
   "version": "3.9.12"
  },
  "orig_nbformat": 4,
  "vscode": {
   "interpreter": {
    "hash": "40d3a090f54c6569ab1632332b64b2c03c39dcf918b08424e98f38b5ae0af88f"
   }
  }
 },
 "nbformat": 4,
 "nbformat_minor": 2
}
