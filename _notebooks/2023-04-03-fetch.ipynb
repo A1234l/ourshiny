{
 "cells": [
  {
   "cell_type": "markdown",
   "metadata": {},
   "source": [
    "# \"Fetching with JavaScript, HTML, and CSS\"\n",
    "> \"Lesson\"\n",
    "\n",
    "- toc: true\n",
    "- branch: master\n",
    "- badges: true\n",
    "- comments: true\n",
    "- author: Trent Cardall\n",
    "- categories: [fastpages, jupyter]"
   ]
  },
  {
   "cell_type": "markdown",
   "metadata": {},
   "source": [
    "## What is fetching (will make more detailed, right now just very basic information)\n",
    "\n",
    "- Fetching means getting data from somewhere else, like a website or database.\n",
    "- JavaScript is a programming language that can be used to fetch data from a website or database.\n",
    "- When you fetch data with JavaScript, you first need to tell it where to get the data from. This is called the URL.\n",
    "- Once you know the URL, you can use JavaScript to go and get the data from that URL.\n",
    "- When the data comes back, it's usually in a format like text or JSON. This means that you might need to do some additional work to turn the data into something that your website or application can use.\n",
    "- Once you have the data, you can use JavaScript to display it on your website or application. You can put it in a table, show it on a map, or do anything else you can think of.\n",
    "\n",
    "![](images/fetch.jpg)"
   ]
  },
  {
   "cell_type": "markdown",
   "metadata": {},
   "source": [
    "I will explain the image and probably refine the diagram to be more detailed"
   ]
  },
  {
   "cell_type": "markdown",
   "metadata": {},
   "source": [
    "## In Our Project\n",
    "- I implement more parts of our project in more detail, this is just an example of a block of code used in our project we might provide"
   ]
  },
  {
   "cell_type": "code",
   "execution_count": null,
   "metadata": {
    "vscode": {
     "languageId": "javascript"
    }
   },
   "outputs": [],
   "source": [
    " const response = fetch(url, {\n",
    "    method: \"GET\",\n",
    "    headers: { \"Content-Type\": \"application/json\" },\n",
    "    mode: \"cors\",\n",
    "    cache: 'default', // *default, no-cache, reload, force-cache, only-if-cached\n",
    "    credentials: 'omit' // include, *same-origin, omit\n",
    "  }).then(response=> \n",
    "    response.json().then(\n",
    "      data => {\n",
    "          console.log(data);\n",
    "          data.forEach((item) => {\n",
    "  console.log('ID: ' + item.id);\n",
    "  console.log('Happy: ' + item.happy);\n",
    "  console.log('Sad: ' + item.sad);\n",
    "  console.log('Rage: ' + item.rage);\n",
    "  console.log('Indian: ' + item.indian);\n",
    "  console.log('Song: ' + item.song);"
   ]
  },
  {
   "cell_type": "markdown",
   "metadata": {},
   "source": [
    "As we can see hear we are fetching from an API and..."
   ]
  },
  {
   "cell_type": "code",
   "execution_count": null,
   "metadata": {},
   "outputs": [],
   "source": []
  }
 ],
 "metadata": {
  "kernelspec": {
   "display_name": "Python 3.8.2 64-bit",
   "language": "python",
   "name": "python3"
  },
  "language_info": {
   "name": "python",
   "version": "3.8.2"
  },
  "orig_nbformat": 4,
  "vscode": {
   "interpreter": {
    "hash": "31f2aee4e71d21fbe5cf8b01ff0e069b9275f58929596ceb00d14d90e3e16cd6"
   }
  }
 },
 "nbformat": 4,
 "nbformat_minor": 2
}
