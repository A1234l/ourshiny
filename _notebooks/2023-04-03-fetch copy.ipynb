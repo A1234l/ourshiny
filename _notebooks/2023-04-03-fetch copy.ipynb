{
 "cells": [
  {
   "attachments": {},
   "cell_type": "markdown",
   "metadata": {},
   "source": [
    "# Developing Frontend/Backend Application\n",
    "> \"Lesson\"\n",
    "\n",
    "- toc: true\n",
    "- branch: master\n",
    "- badges: true\n",
    "- comments: true\n",
    "- author: Trent Cardall\n",
    "- categories: [fastpages, jupyter]"
   ]
  },
  {
   "attachments": {},
   "cell_type": "markdown",
   "metadata": {},
   "source": [
    "## Frontend and Backend\n",
    "\n",
    "Frontend development is centered around the appearance and _________ (user interaction) of the site.\n",
    "\n",
    "Backend development works to create a structure or organization of ____ (data), and is the server aspect of the site.\n",
    "\n",
    "The image below provides a visual representation of how our team specifically organized development, and how each aspect interacts with the other."
   ]
  },
  {
   "attachments": {},
   "cell_type": "markdown",
   "metadata": {},
   "source": [
    "## Installing Conda Scripts\n",
    "\n",
    "Before jumping into coding, it is important to ensure your machine has all the neccesary set-up that will enable it to run code properly.\n",
    "\n",
    "Conda is a package...\n",
    "\n"
   ]
  },
  {
   "attachments": {},
   "cell_type": "markdown",
   "metadata": {},
   "source": [
    "## Github/Fastpages Setup\n",
    "\n",
    "1.  > Duplicate APCSP, and use it as template for your own repo\n",
    "\n",
    "![]({{ site.url }}{{ site.baseurl }}/assets/img/2023-04-02-Guide-to-making-a-new-repo/media/image9.png)\n",
    "\n",
    "2.  > Name your repo and include all branches before clicking the green create button.\n",
    "\n",
    "![]({{ site.url }}{{ site.baseurl }}/assets/img/2023-04-02-Guide-to-making-a-new-repo/media/image6.png)\n",
    "\n",
    "3.  > If you have an automatically generated pull request, then go ahead and follow the instructions on there. If there is no pull request, as shown below, then move on to step 4.\n",
    "\n",
    "![]({{ site.url }}{{ site.baseurl }}/assets/img/2023-04-02-Guide-to-making-a-new-repo/media/image1.png)\n",
    "\n",
    "4.  > Navigate to [<span class=\"underline\">this link</span>](https://8gwifi.org/sshfunctions.jsp). Select: RSA and 4096 and leave Passphrase blank. Click the blue button Generate-SSH-Keys. You have just created an ssh key-pair.\n",
    "\n",
    "![]({{ site.url }}{{ site.baseurl }}/assets/img/2023-04-02-Guide-to-making-a-new-repo/media/image4.png)\n",
    "\n",
    "5.  > Navigate to [<span class=\"underline\">this link</span>](https://github.com/jiya-sav/ourshiny/settings/secrets/actions). Replace the section of the link highlighted in blue with your repository name. In the picture, I have inputted “ourshiny,” because it is my repository name. Replace the section of the link highlighted in yellow with your repository name that you just made.\n",
    "\n",
    "https://github.com/yourgithubname/yourrepositoryname/settings/secrets/actions\n",
    "\n",
    "![]({{ site.url }}{{ site.baseurl }}/assets/img/2023-04-02-Guide-to-making-a-new-repo/media/image2.png)\n",
    "\n",
    "6.  > Click New repository secret. Copy and paste the Private Key (generated in step 4) into the Value field. This includes the \"---BEGIN RSA PRIVATE KEY---\" and \"--END RSA PRIVATE KEY---\" portions. In the Name field, name the secret SSH\\_DEPLOY\\_KEY. Once done, click the green Add Secret button.\n",
    "\n",
    "![]({{ site.url }}{{ site.baseurl }}/assets/img/2023-04-02-Guide-to-making-a-new-repo/media/image8.png)\n",
    "\n",
    "7.  > Navigate to [<span class=\"underline\">this link</span>](https://github.com/jiya-sav/ourshiny/settings/keys), then replace the portions below with your github and repository names. My github name in the image below is jiya-sav, and my repository name is ourshiny.\n",
    "\n",
    "https://github.com/yourgithubname/yourrepositoryname/settings/keys\n",
    "\n",
    "![]({{ site.url }}{{ site.baseurl }}/assets/img/2023-04-02-Guide-to-making-a-new-repo/media/image7.png)\n",
    "\n",
    "8.  > Click the Add deploy key button. Paste your Public Key (generated in step 4) into the Key box. In the Title, name the key anything you want, for example fastpages-key. Finally, make sure you click the checkbox next to Allow write access (pictured below), and click the green Add key button to save the key.\n",
    "\n",
    "![]({{ site.url }}{{ site.baseurl }}/assets/img/2023-04-02-Guide-to-making-a-new-repo/media/image5.png)\n",
    "\n",
    "![]({{ site.url }}{{ site.baseurl }}/assets/img/2023-04-02-Guide-to-making-a-new-repo/media/image3.png)\n",
    "\n",
    "9.  > GitHub Actions will build your site, which will take 2-3 minutes to complete. This will happen anytime you push changes to the master branch of your repository. You can monitor the logs of this if you like on the Actions tab of your repo.\n",
    "\n",
    "> Your GH-Pages Status badge on your README will eventually appear and be green, indicating your first successful build.\n",
    "> \n",
    "> You can monitor the status of your site in the GitHub Pages section of your repository settings.\n",
    "\n",
    "Now that you have made your repository secure, you can clone it into vscode and CODE, CODE, CODE\\!\\!\\!\n"
   ]
  },
  {
   "attachments": {},
   "cell_type": "markdown",
   "metadata": {},
   "source": [
    "## Buiding requirements and pull requests in GitHub"
   ]
  },
  {
   "attachments": {},
   "cell_type": "markdown",
   "metadata": {},
   "source": [
    "## Overview"
   ]
  },
  {
   "attachments": {},
   "cell_type": "markdown",
   "metadata": {},
   "source": [
    "## Fetching\n",
    "\n",
    "Fetching means getting retrieving data from a server (self-created, or third party), like a website or database.\n",
    "\n",
    "Lecture Question:\n",
    "\n",
    "What language do we most commonly use to fetch?\n",
    "\n",
    "\n",
    "\n",
    "\n",
    "\n",
    "When fetching data you can manipulate it with a function in javascript, often prompted by a user input or some other indication (like a button). However, you must first specify the location from which the data should be retrieved.\n",
    "\n",
    "Below this is defined as the const url."
   ]
  },
  {
   "cell_type": "code",
   "execution_count": null,
   "metadata": {
    "vscode": {
     "languageId": "javascript"
    }
   },
   "outputs": [],
   "source": [
    "code block"
   ]
  },
  {
   "attachments": {},
   "cell_type": "markdown",
   "metadata": {},
   "source": [
    "\n",
    "- Once you know the URL, you can use JavaScript to go and get the data from that URL.\n",
    "- When the data comes back, it's usually in a format like text or JSON. This means that you might need to do some additional work to turn the data into something that your website or application can use.\n",
    "- Once you have the data, you can use JavaScript to display it on your website or application. You can put it in a table, show it on a map, or do anything else you can think of.\n",
    "\n",
    "![](images/fetch.jpg)"
   ]
  },
  {
   "cell_type": "markdown",
   "metadata": {},
   "source": [
    "I will explain the image and probably refine the diagram to be more detailed"
   ]
  },
  {
   "cell_type": "markdown",
   "metadata": {},
   "source": [
    "## In Our Project\n",
    "- I implement more parts of our project in more detail, this is just an example of a block of code used in our project we might provide"
   ]
  },
  {
   "cell_type": "code",
   "execution_count": null,
   "metadata": {
    "vscode": {
     "languageId": "javascript"
    }
   },
   "outputs": [],
   "source": [
    " const response = fetch(url, {\n",
    "    method: \"GET\",\n",
    "    headers: { \"Content-Type\": \"application/json\" },\n",
    "    mode: \"cors\",\n",
    "    cache: 'default', // *default, no-cache, reload, force-cache, only-if-cached\n",
    "    credentials: 'omit' // include, *same-origin, omit\n",
    "  }).then(response=> \n",
    "    response.json().then(\n",
    "      data => {\n",
    "          console.log(data);\n",
    "          data.forEach((item) => {\n",
    "  console.log('ID: ' + item.id);\n",
    "  console.log('Happy: ' + item.happy);\n",
    "  console.log('Sad: ' + item.sad);\n",
    "  console.log('Rage: ' + item.rage);\n",
    "  console.log('Indian: ' + item.indian);\n",
    "  console.log('Song: ' + item.song);"
   ]
  },
  {
   "cell_type": "markdown",
   "metadata": {},
   "source": [
    "As we can see hear we are fetching from an API and..."
   ]
  },
  {
   "cell_type": "code",
   "execution_count": null,
   "metadata": {},
   "outputs": [],
   "source": []
  }
 ],
 "metadata": {
  "kernelspec": {
   "display_name": "Python 3.8.2 64-bit",
   "language": "python",
   "name": "python3"
  },
  "language_info": {
   "name": "python",
   "version": "3.8.2"
  },
  "orig_nbformat": 4,
  "vscode": {
   "interpreter": {
    "hash": "31f2aee4e71d21fbe5cf8b01ff0e069b9275f58929596ceb00d14d90e3e16cd6"
   }
  }
 },
 "nbformat": 4,
 "nbformat_minor": 2
}
