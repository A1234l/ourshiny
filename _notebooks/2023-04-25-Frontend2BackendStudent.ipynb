{
 "cells": [
  {
   "attachments": {},
   "cell_type": "markdown",
   "metadata": {},
   "source": [
    "# Developing Frontend/Backend Application Student Copy\n",
    "> \"Lesson\"\n",
    "\n",
    "- toc: true\n",
    "- branch: master\n",
    "- badges: true\n",
    "- comments: true\n",
    "- author: Trent Cardall\n",
    "- categories: [fastpages, jupyter]"
   ]
  },
  {
   "attachments": {},
   "cell_type": "markdown",
   "metadata": {},
   "source": [
    "## Installing Conda Scripts\n",
    "\n",
    "### For Windows\n",
    "\n",
    "![conda image](https://github.com/kayleehou/myproject/blob/master/images/condadiagram.PNG?raw=true)\n",
    "\n",
    "After you've installed VSCode using WSL, install Anaconda on WSL. \n",
    "\n",
    "Anaconda is like a big tool box for your computer, it has tools and libraries that you might need for data analysis, programming, and computing. Conda is a tool that helps you manage these tools inside Anaconda. It lets you install, update, delete, and organize packages and materials. Anaconda Python packages include pandas, numpy, sqlite, jupyter, bash, and other kernels. Conda script tells Conda what tools and materials you need and how to install them in your Anaconda toolbox.\n",
    "\n",
    "### For MacOS\n",
    "\n",
    "> Python2 install on MacOS\n",
    "- Install [Python2](https://www.python.org/ftp/python/2.7.18/python-2.7.18-macosx10.9.pkg)\n",
    "\n",
    "> VSCode install on MacOS.  \n",
    "- Install [VSCode](https://code.visualstudio.com/docs/setup/mac)\n",
    "\n",
    "> Anaconda install on MacOS.\n",
    "- Download for MacOS: [Anaconda](https://www.anaconda.com/products/distribution)\n",
    "- Run Install: Answer yes to questions\n",
    "\n",
    "> Homebrew install on MacOS\n",
    "- Homebrew is a tool that helps you easily install and manage software on your Mac. Think of it like a virtual store for your computer where you can browse, download and install a variety of useful programs and tools.\n",
    "- Copy and Paste to Install from Terminal [Homebrew](https://brew.sh)\n",
    "    - Copy ```bash ... curl ...```  command using copy box on website\n",
    "    - Launch ```terminal``` from search bar\n",
    "    - Paste ```bash ... curl ...``` command into Terminal ... \n",
    "    - Make sure command starts, this should provide feedback/output in terminal and could take a long time, like 10-min, there could be a prompt in the middle, at about 5-minutes.  Follow any on screen instructions provided in terminal output to finish.\n",
    "- Homebrew installs a tool called \"brew\" which helps add and manage developer packages on MacOS. \n",
    "\n",
    "Start a new WSL terminal. Now the terminal prompt should be prefixed with (base) from Anaconda install. If not, go back to Anaconda install. \n",
    "\n",
    "> Having Homebrew and Anaconda allows you to easily install Key Packages needed on MacOS like the commands below are all neccessary: \n",
    "```bash\n",
    "$ brew list # list packages\n",
    "$ brew update # update package list\n",
    "$ brew upgrade # upgrade packages\n",
    "$ brew install git  # install latest git\n",
    "$ brew install python # install python3 for development\n",
    "$ python --version # version of python3 installed\n",
    "$ brew install java # openjdk install\n",
    "\n",
    "**type conda --version and take a screen shot as proof that you have it installed**\n"
   ]
  },
  {
   "attachments": {},
   "cell_type": "markdown",
   "metadata": {},
   "source": [
    "## Frontend and Backend\n",
    "\n",
    "Fill in the blanks and add any extra notes"
   ]
  },
  {
   "attachments": {},
   "cell_type": "markdown",
   "metadata": {},
   "source": [
    "## Fetching\n",
    "\n",
    "### The Basics\n",
    "- Fetching means getting data from somewhere else, like a website or database.\n",
    "\n",
    "JavaScript is a programming language that can be used to fetch data from a website or database.\n",
    "\n",
    "- When you fetch data with JavaScript, you first need to tell it where to get the data from. This is called the URL.\n",
    "- Once you know the URL, you can use JavaScript to go and get the data from that URL.\n",
    "- When the data comes back, it's usually in a format like text or JSON. This means that you might need to do some additional work to turn the data into something that your website or application can use.\n",
    "- Once you have the data, you can use JavaScript to display it on your website or application. You can put it in a table, show it on a map, or do anything else you can think of.\n",
    "\n",
    "![](images/fetch.jpg)\n",
    "\n",
    "### About Fetching\n",
    "#### Method\n",
    "The fetching methods are in line with the CRUD (Create, Read, Update, Delete), and list as follows:\n",
    "- \"GET\": Probably the most common method you would use, which is in line with \"read\". It essentially \"gets\" the information from the API and brings it to the frontend where you are able to display it and read it.\n",
    "- \"POST\": Lines up with \"create\" and adds a resource to the API. You will probably mostly be using this with your own API or if a website adds your input to an API.\n",
    "- \"PUT\" and \"PATCH\": Essentially the \"update\" for API. Use \"PUT\" if you want to change the whole resource, or \"PATCH\" if you want to change just one part of a resource.\n",
    "- \"DELETE\": Exactly how it sounds, deletes a resource from the API\n",
    "\n",
    "\n",
    "Popcorn Hacks:\n",
    "- What method should I use if I want to display some of the data stored in the backend?\n",
    "- What method would I use if something in the data is misspelled and I want to fix it real quick?\n",
    "- What method should I use if I want to add a new entry to the data?\n",
    "\n",
    "### Filtering Data\n",
    "- If we want to display API data, we are going to have to filter what we want to display for multiple reasons\n",
    "    - These include making sure that the user only sees information they need to see, and not anything else\n",
    "    - Also we need to present the information in a readable format instead of just seeing the raw data"
   ]
  },
  {
   "attachments": {},
   "cell_type": "markdown",
   "metadata": {},
   "source": [
    "The below code segment, is from a previous project. It shows the use of a url being fetched, and the JavaScript fetch() command being implemented."
   ]
  },
  {
   "cell_type": "code",
   "execution_count": null,
   "metadata": {
    "vscode": {
     "languageId": "javascript"
    }
   },
   "outputs": [],
   "source": [
    "// prepare fetch urls\n",
    "  // const url = \"https://ssjn.nighthawkcodescrums.gq/api/song\";\n",
    "  const url = \"https://ssjncpt.duckdns.org/api/song\";\n",
    "  const sad_url = url + \"/sad/\";  // sad category\n",
    "  const happy_url = url + \"/happy/\";  // happy category\n",
    "  const rage_url = url + \"/rage/\";  // rage category\n",
    "  const indian_url = url + \"/indian/\"; // indian category\n",
    "\n",
    "  // prepare fetch GET options\n",
    "  const options = {\n",
    "    method: 'GET', // *GET, POST, PUT, DELETE, etc.\n",
    "    mode: 'cors', // cors, *cors, same-origin\n",
    "    cache: 'default', // *default, no-cache, reload, force-cache, only-if-cached\n",
    "    credentials: 'omit', // include, *same-origin, omit\n",
    "    headers: {\n",
    "      'Content-Type': 'application/json'\n",
    "      // 'Content-Type': 'application/x-www-form-urlencoded',\n",
    "    },\n",
    "  };\n",
    "  // prepare fetch PUT options, clones with JS Spread Operator (...)\n",
    "  const put_options = {...options, method: 'PUT'}; // clones and replaces method\n",
    "\n",
    "  // fetch the API\n",
    "  fetch(url, options)\n",
    "    // response is a RESTful \"promise\" on any successful fetch\n",
    "    .then(response => {\n",
    "      // check for response errors\n",
    "      if (response.status !== 200) {\n",
    "          error('GET API response failure: ' + response.status);\n",
    "          return;\n",
    "      }\n",
    "      // valid response will have JSON data"
   ]
  },
  {
   "attachments": {},
   "cell_type": "markdown",
   "metadata": {},
   "source": [
    "## Third Party APIs\n",
    "\n",
    "3rd Party APIs:\n",
    "APIs provided by other developers for public use.\n",
    "\n",
    "Programmers can use the content of these APIs to create new functionalities for their programs, or they can also simply take advantage of the data of the API for different uses.\n",
    "\n",
    "Ex: A developed can use Google Account login to allow users to log in with their google account\n",
    "Ex: Using the content of a weather API to make a weather app \n",
    "\n",
    "The functionalities of these APIs are usually accessed via JavaScript (usually) as you’ve seen before in your past projects.\n",
    "\n",
    "3rd party APIs are located on third party servers. To access them from JavaScript you first need to connect to the API functionality and make it available on your page. "
   ]
  },
  {
   "cell_type": "code",
   "execution_count": null,
   "metadata": {
    "vscode": {
     "languageId": "javascript"
    }
   },
   "outputs": [],
   "source": [
    "<script\n",
    "  src=\"https://api.mqcdn.com/sdk/mapquest-js/v1.3.2/mapquest.js\"\n",
    "  defer></script>\n",
    "<link\n",
    "  rel=\"stylesheet\"\n",
    "  href=\"https://api.mqcdn.com/sdk/mapquest-js/v1.3.2/mapquest.css\" />"
   ]
  },
  {
   "attachments": {},
   "cell_type": "markdown",
   "metadata": {},
   "source": [
    "Here is an example of accessing the objects available in the library above."
   ]
  },
  {
   "cell_type": "code",
   "execution_count": null,
   "metadata": {
    "vscode": {
     "languageId": "javascript"
    }
   },
   "outputs": [],
   "source": [
    "const map = L.mapquest.map('map', {\n",
    "    center: [53.480759, -2.242631],\n",
    "    layers: L.mapquest.tileLayer('map'),\n",
    "    zoom: 12\n",
    "  });\n"
   ]
  },
  {
   "attachments": {},
   "cell_type": "markdown",
   "metadata": {},
   "source": [
    "The process of accessing and using third-party APIs can vary depending on the specific API and the requirements set by the API provider.\n",
    "3rd party APIs use developer keys to allow developers access to the API functionality, which protects the owner of the API.\n"
   ]
  },
  {
   "cell_type": "code",
   "execution_count": null,
   "metadata": {
    "vscode": {
     "languageId": "javascript"
    }
   },
   "outputs": [],
   "source": [
    "L.mapquest.key = 'YOUR-API-KEY-HERE';"
   ]
  },
  {
   "attachments": {},
   "cell_type": "markdown",
   "metadata": {},
   "source": [
    "Developers must apply to get the key of a certain API, and then include it in their code to be allowed access to the API's functionality.\n",
    "Some API keys are accessed slightly differently, but the method is similar for the most part.\n",
    "\n",
    "**Hack: You’ve used 3rd party APIs before. Go through some of your previous projects/assignments and explain how you implemented a 3rd party API. Reflect on how using the 3rd party API helped.**"
   ]
  },
  {
   "attachments": {},
   "cell_type": "markdown",
   "metadata": {},
   "source": [
    "## Pandas"
   ]
  },
  {
   "attachments": {},
   "cell_type": "markdown",
   "metadata": {},
   "source": [
    "## Python (Request) Fetch\n",
    "\n",
    "#### Example with Weather API\n",
    "\n",
    "- What method is being used in these cells?"
   ]
  },
  {
   "cell_type": "code",
   "execution_count": null,
   "metadata": {},
   "outputs": [],
   "source": [
    "import requests\n",
    "\n",
    "url = \"https://yahoo-weather5.p.rapidapi.com/weather\"\n",
    "\n",
    "querystring = {\"location\":\"San Diego\",\"format\":\"json\",\"u\":\"f\"}\n",
    "\n",
    "headers = {\n",
    "\t\"X-RapidAPI-Key\": \"4abcb54450msh7468dfd72294e89p18fbaajsn6d4200063b39\",\n",
    "\t\"X-RapidAPI-Host\": \"yahoo-weather5.p.rapidapi.com\"\n",
    "}\n",
    "\n",
    "response = requests.request(\"GET\", url, headers=headers, params=querystring)\n",
    "\n",
    "print(response.json())"
   ]
  },
  {
   "attachments": {},
   "cell_type": "markdown",
   "metadata": {},
   "source": [
    "The fetch worked and we can see all the data, but this is presented in a way that is not very readable. It also has a lot of information we didn't see. Let's say I just want to see the projected weather forecasts."
   ]
  },
  {
   "cell_type": "code",
   "execution_count": null,
   "metadata": {},
   "outputs": [],
   "source": [
    "import requests\n",
    "\n",
    "url = \"https://yahoo-weather5.p.rapidapi.com/weather\"\n",
    "\n",
    "querystring = {\"location\":\"San Diego\",\"format\":\"json\",\"u\":\"f\"}\n",
    "\n",
    "headers = {\n",
    "\t\"X-RapidAPI-Key\": \"4abcb54450msh7468dfd72294e89p18fbaajsn6d4200063b39\",\n",
    "\t\"X-RapidAPI-Host\": \"yahoo-weather5.p.rapidapi.com\"\n",
    "}\n",
    "\n",
    "response = requests.request(\"GET\", url, headers=headers, params=querystring)\n",
    "\n",
    "print(\"San Diego Weather Forecast:\" + \"\\n\")\n",
    "forecast = response.json().get(\"forecasts\")\n",
    "i = 0\n",
    "while i < len(forecast):\n",
    "\tfor key, value in forecast[i].items():\n",
    "\t\tprint(\"\\t\" + key, value)\n",
    "\ti += 1\n",
    "\tprint(\"\\n\")"
   ]
  },
  {
   "attachments": {},
   "cell_type": "markdown",
   "metadata": {},
   "source": [
    "As we can see, we now can see the data in a much more organized and readable format, and we only see the forecasts, which is what we wanted to see."
   ]
  },
  {
   "attachments": {},
   "cell_type": "markdown",
   "metadata": {},
   "source": [
    "# Github/Fastpages Setup\n"
   ]
  },
  {
   "attachments": {},
   "cell_type": "markdown",
   "metadata": {},
   "source": [
    "# Pull requests in GitHub"
   ]
  },
  {
   "attachments": {},
   "cell_type": "markdown",
   "metadata": {},
   "source": [
    "## How-to\n",
    "\n",
    "1. After you've cloned a repository and made changes to it, go to pull requests in your Github repository \n",
    "![pull request 1](https://github.com/kayleehou/myproject/blob/master/images/pull_request1.PNG?raw=true)\n",
    "\n",
    "2. Once you click 'create new pull request,' you should see this with your new changes: \n",
    "![pull request 2](https://github.com/kayleehou/myproject/blob/master/images/pull_request2.PNG?raw=true)\n",
    "\n",
    "3. Change the title and send the pull request \n",
    "![pull request 3](https://github.com/kayleehou/myproject/blob/master/images/pull_request3.PNG?raw=true)\n",
    "\n",
    "# Hacks\n",
    "Turn in your hacks as a pull request, title the pull request as shown in the third step but with your own name. Any other titles will not be accepted. "
   ]
  },
  {
   "attachments": {},
   "cell_type": "markdown",
   "metadata": {},
   "source": [
    "## Overview"
   ]
  },
  {
   "cell_type": "code",
   "execution_count": null,
   "metadata": {
    "vscode": {
     "languageId": "javascript"
    }
   },
   "outputs": [],
   "source": [
    "code block"
   ]
  },
  {
   "attachments": {},
   "cell_type": "markdown",
   "metadata": {},
   "source": [
    "\n",
    "- Once you know the URL, you can use JavaScript to go and get the data from that URL.\n",
    "- When the data comes back, it's usually in a format like text or JSON. This means that you might need to do some additional work to turn the data into something that your website or application can use.\n",
    "- Once you have the data, you can use JavaScript to display it on your website or application. You can put it in a table, show it on a map, or do anything else you can think of.\n",
    "\n",
    "![](images/fetch.jpg)"
   ]
  },
  {
   "cell_type": "markdown",
   "metadata": {},
   "source": [
    "I will explain the image and probably refine the diagram to be more detailed"
   ]
  },
  {
   "cell_type": "markdown",
   "metadata": {},
   "source": [
    "## In Our Project\n",
    "- I implement more parts of our project in more detail, this is just an example of a block of code used in our project we might provide"
   ]
  },
  {
   "cell_type": "code",
   "execution_count": null,
   "metadata": {
    "vscode": {
     "languageId": "javascript"
    }
   },
   "outputs": [],
   "source": [
    " const response = fetch(url, {\n",
    "    method: \"GET\",\n",
    "    headers: { \"Content-Type\": \"application/json\" },\n",
    "    mode: \"cors\",\n",
    "    cache: 'default', // *default, no-cache, reload, force-cache, only-if-cached\n",
    "    credentials: 'omit' // include, *same-origin, omit\n",
    "  }).then(response=> \n",
    "    response.json().then(\n",
    "      data => {\n",
    "          console.log(data);\n",
    "          data.forEach((item) => {\n",
    "  console.log('ID: ' + item.id);\n",
    "  console.log('Happy: ' + item.happy);\n",
    "  console.log('Sad: ' + item.sad);\n",
    "  console.log('Rage: ' + item.rage);\n",
    "  console.log('Indian: ' + item.indian);\n",
    "  console.log('Song: ' + item.song);"
   ]
  },
  {
   "cell_type": "markdown",
   "metadata": {},
   "source": [
    "As we can see hear we are fetching from an API and..."
   ]
  },
  {
   "cell_type": "code",
   "execution_count": null,
   "metadata": {},
   "outputs": [],
   "source": []
  },
  {
   "attachments": {},
   "cell_type": "markdown",
   "metadata": {},
   "source": [
    "# Hacks and Point Division\n",
    "\n",
    "- Popcorn questions answered within lesson (.2)\n",
    "- Screenshot showing proof that conda is installed (.1)\n",
    "- Create 3 quiz questions to demonstrate the main steps in creating a repository on Github (.1)\n",
    "- Fetch from a third party API, and display json data. Then use the json data in any simple JavaScript function (hint: parse, this makes json data into a JavaScript object) (.4)\n",
    "- Pull request successful completion: (.1)\n",
    "\n",
    "Extra: Use fetch() and display data from an API, self-made or third party (.1)\n",
    "\n"
   ]
  }
 ],
 "metadata": {
  "kernelspec": {
   "display_name": "Python 3.8.2 64-bit",
   "language": "python",
   "name": "python3"
  },
  "language_info": {
   "name": "python",
   "version": "3.8.2"
  },
  "orig_nbformat": 4,
  "vscode": {
   "interpreter": {
    "hash": "31f2aee4e71d21fbe5cf8b01ff0e069b9275f58929596ceb00d14d90e3e16cd6"
   }
  }
 },
 "nbformat": 4,
 "nbformat_minor": 2
}
